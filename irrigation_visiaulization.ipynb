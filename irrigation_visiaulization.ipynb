{
 "cells": [
  {
   "cell_type": "markdown",
   "metadata": {},
   "source": [
    "# Visualizing Irrigation Data\n",
    "\n",
    "## Cem Onel"
   ]
  },
  {
   "cell_type": "markdown",
   "metadata": {},
   "source": [
    "### Libraries"
   ]
  },
  {
   "cell_type": "code",
   "execution_count": 95,
   "metadata": {},
   "outputs": [],
   "source": [
    "import pandas\n",
    "import datetime\n",
    "import matplotlib.pyplot as plt\n",
    "%matplotlib qt\n",
    "\n",
    "MIN_MOISTURE = 1024"
   ]
  },
  {
   "cell_type": "markdown",
   "metadata": {},
   "source": []
  },
  {
   "cell_type": "code",
   "execution_count": 103,
   "metadata": {},
   "outputs": [],
   "source": []
  },
  {
   "cell_type": "markdown",
   "metadata": {},
   "source": [
    "## Data Preparation"
   ]
  },
  {
   "cell_type": "code",
   "execution_count": null,
   "metadata": {},
   "outputs": [
    {
     "data": {
      "text/html": [
       "<div>\n",
       "<style scoped>\n",
       "    .dataframe tbody tr th:only-of-type {\n",
       "        vertical-align: middle;\n",
       "    }\n",
       "\n",
       "    .dataframe tbody tr th {\n",
       "        vertical-align: top;\n",
       "    }\n",
       "\n",
       "    .dataframe thead th {\n",
       "        text-align: right;\n",
       "    }\n",
       "</style>\n",
       "<table border=\"1\" class=\"dataframe\">\n",
       "  <thead>\n",
       "    <tr style=\"text-align: right;\">\n",
       "      <th></th>\n",
       "      <th>time</th>\n",
       "      <th>soil_moisture</th>\n",
       "      <th>temperature</th>\n",
       "      <th>air_humidity</th>\n",
       "    </tr>\n",
       "    <tr>\n",
       "      <th>time</th>\n",
       "      <th></th>\n",
       "      <th></th>\n",
       "      <th></th>\n",
       "      <th></th>\n",
       "    </tr>\n",
       "  </thead>\n",
       "  <tbody>\n",
       "    <tr>\n",
       "      <td>2020-03-05 11:49:56</td>\n",
       "      <td>2020-03-05 11:49:56</td>\n",
       "      <td>53.846154</td>\n",
       "      <td>24.0</td>\n",
       "      <td>34.0</td>\n",
       "    </tr>\n",
       "    <tr>\n",
       "      <td>2020-03-05 11:49:58</td>\n",
       "      <td>2020-03-05 11:49:58</td>\n",
       "      <td>53.846154</td>\n",
       "      <td>24.0</td>\n",
       "      <td>34.0</td>\n",
       "    </tr>\n",
       "    <tr>\n",
       "      <td>2020-03-05 11:50:00</td>\n",
       "      <td>2020-03-05 11:50:00</td>\n",
       "      <td>53.846154</td>\n",
       "      <td>26.0</td>\n",
       "      <td>37.0</td>\n",
       "    </tr>\n",
       "    <tr>\n",
       "      <td>2020-03-05 11:50:02</td>\n",
       "      <td>2020-03-05 11:50:02</td>\n",
       "      <td>53.846154</td>\n",
       "      <td>24.0</td>\n",
       "      <td>34.0</td>\n",
       "    </tr>\n",
       "    <tr>\n",
       "      <td>2020-03-05 11:50:04</td>\n",
       "      <td>2020-03-05 11:50:04</td>\n",
       "      <td>51.923077</td>\n",
       "      <td>24.0</td>\n",
       "      <td>34.0</td>\n",
       "    </tr>\n",
       "    <tr>\n",
       "      <td>...</td>\n",
       "      <td>...</td>\n",
       "      <td>...</td>\n",
       "      <td>...</td>\n",
       "      <td>...</td>\n",
       "    </tr>\n",
       "    <tr>\n",
       "      <td>2020-03-06 14:32:04</td>\n",
       "      <td>2020-03-06 14:32:04</td>\n",
       "      <td>50.000000</td>\n",
       "      <td>24.0</td>\n",
       "      <td>34.0</td>\n",
       "    </tr>\n",
       "    <tr>\n",
       "      <td>2020-03-06 14:32:06</td>\n",
       "      <td>2020-03-06 14:32:06</td>\n",
       "      <td>48.076923</td>\n",
       "      <td>24.0</td>\n",
       "      <td>38.0</td>\n",
       "    </tr>\n",
       "    <tr>\n",
       "      <td>2020-03-06 14:32:08</td>\n",
       "      <td>2020-03-06 14:32:08</td>\n",
       "      <td>48.076923</td>\n",
       "      <td>24.0</td>\n",
       "      <td>34.0</td>\n",
       "    </tr>\n",
       "    <tr>\n",
       "      <td>2020-03-06 14:32:10</td>\n",
       "      <td>2020-03-06 14:32:10</td>\n",
       "      <td>48.076923</td>\n",
       "      <td>24.0</td>\n",
       "      <td>34.0</td>\n",
       "    </tr>\n",
       "    <tr>\n",
       "      <td>2020-03-06 14:32:12</td>\n",
       "      <td>2020-03-06 14:32:12</td>\n",
       "      <td>48.076923</td>\n",
       "      <td>24.0</td>\n",
       "      <td>38.0</td>\n",
       "    </tr>\n",
       "  </tbody>\n",
       "</table>\n",
       "<p>48017 rows × 4 columns</p>\n",
       "</div>"
      ],
      "text/plain": [
       "                                    time  soil_moisture  temperature  \\\n",
       "time                                                                   \n",
       "2020-03-05 11:49:56  2020-03-05 11:49:56      53.846154         24.0   \n",
       "2020-03-05 11:49:58  2020-03-05 11:49:58      53.846154         24.0   \n",
       "2020-03-05 11:50:00  2020-03-05 11:50:00      53.846154         26.0   \n",
       "2020-03-05 11:50:02  2020-03-05 11:50:02      53.846154         24.0   \n",
       "2020-03-05 11:50:04  2020-03-05 11:50:04      51.923077         24.0   \n",
       "...                                  ...            ...          ...   \n",
       "2020-03-06 14:32:04  2020-03-06 14:32:04      50.000000         24.0   \n",
       "2020-03-06 14:32:06  2020-03-06 14:32:06      48.076923         24.0   \n",
       "2020-03-06 14:32:08  2020-03-06 14:32:08      48.076923         24.0   \n",
       "2020-03-06 14:32:10  2020-03-06 14:32:10      48.076923         24.0   \n",
       "2020-03-06 14:32:12  2020-03-06 14:32:12      48.076923         24.0   \n",
       "\n",
       "                     air_humidity  \n",
       "time                               \n",
       "2020-03-05 11:49:56          34.0  \n",
       "2020-03-05 11:49:58          34.0  \n",
       "2020-03-05 11:50:00          37.0  \n",
       "2020-03-05 11:50:02          34.0  \n",
       "2020-03-05 11:50:04          34.0  \n",
       "...                           ...  \n",
       "2020-03-06 14:32:04          34.0  \n",
       "2020-03-06 14:32:06          38.0  \n",
       "2020-03-06 14:32:08          34.0  \n",
       "2020-03-06 14:32:10          34.0  \n",
       "2020-03-06 14:32:12          38.0  \n",
       "\n",
       "[48017 rows x 4 columns]"
      ]
     },
     "execution_count": 106,
     "metadata": {},
     "output_type": "execute_result"
    }
   ],
   "source": [
    "## Retrieve Data from Csv File\n",
    "irrigation_data = pandas.read_csv('data/4.csv',sep='\\t', encoding=\"ISO-8859-1\")\n",
    "# Time Preparation\n",
    "irrigation_data['time'] = irrigation_data['time'].apply(lambda ts: ts//1000)\n",
    "irrigation_data['time'] = irrigation_data['time'].apply(lambda ts: datetime.datetime.fromtimestamp(ts).strftime('%Y-%m-%d %H:%M:%S'))\n",
    "irrigation_data.set_index(pandas.DatetimeIndex(irrigation_data['time']), inplace=True)  #  sets time column as index column\n",
    "# Soil-Mosutire Percantage Calculation\n",
    "irrigation_data['soil_moisture'] = irrigation_data['soil_moisture'].apply(lambda x: MIN_MOISTURE - x)\n",
    "\n",
    "max_soil_moisture = irrigation_data['soil_moisture'].max()\n",
    "min_soil_moisture = irrigation_data['soil_moisture'].min()\n",
    "\n",
    "irrigation_data['soil_moisture'] = irrigation_data['soil_moisture'].apply(lambda x: (x/max_soil_moisture)*100)\n",
    "\n",
    "# mean() function finds the mean over each window \n",
    "# irrigation_data.soil_moisture.rolling(3).mean() \n",
    "# irrigation_data = irrigation_data.resample('1H').ffill()\n",
    "irrigation_data"
   ]
  },
  {
   "cell_type": "markdown",
   "metadata": {},
   "source": [
    "## Visualize Data"
   ]
  },
  {
   "cell_type": "code",
   "execution_count": 87,
   "metadata": {
    "scrolled": false
   },
   "outputs": [
    {
     "ename": "AttributeError",
     "evalue": "'RangeIndex' object has no attribute 'to_pydatetime'",
     "output_type": "error",
     "traceback": [
      "\u001b[0;31m---------------------------------------------------------------------------\u001b[0m",
      "\u001b[0;31mAttributeError\u001b[0m                            Traceback (most recent call last)",
      "\u001b[0;32m<ipython-input-87-1690aefd98ac>\u001b[0m in \u001b[0;36m<module>\u001b[0;34m\u001b[0m\n\u001b[1;32m      1\u001b[0m \u001b[0mplt\u001b[0m\u001b[0;34m.\u001b[0m\u001b[0mrcParams\u001b[0m\u001b[0;34m[\u001b[0m\u001b[0;34m'figure.figsize'\u001b[0m\u001b[0;34m]\u001b[0m \u001b[0;34m=\u001b[0m \u001b[0;34m(\u001b[0m\u001b[0;36m24\u001b[0m\u001b[0;34m,\u001b[0m\u001b[0;36m6\u001b[0m\u001b[0;34m)\u001b[0m   \u001b[0;31m# Change the plot size\u001b[0m\u001b[0;34m\u001b[0m\u001b[0;34m\u001b[0m\u001b[0m\n\u001b[0;32m----> 2\u001b[0;31m \u001b[0mplt\u001b[0m\u001b[0;34m.\u001b[0m\u001b[0mplot\u001b[0m\u001b[0;34m(\u001b[0m\u001b[0mirrigation_data\u001b[0m\u001b[0;34m.\u001b[0m\u001b[0mindex\u001b[0m\u001b[0;34m.\u001b[0m\u001b[0mto_pydatetime\u001b[0m\u001b[0;34m(\u001b[0m\u001b[0;34m)\u001b[0m\u001b[0;34m,\u001b[0m \u001b[0mdf\u001b[0m\u001b[0;34m.\u001b[0m\u001b[0mRandomValues\u001b[0m\u001b[0;34m)\u001b[0m\u001b[0;34m\u001b[0m\u001b[0;34m\u001b[0m\u001b[0m\n\u001b[0m\u001b[1;32m      3\u001b[0m \u001b[0;34m\u001b[0m\u001b[0m\n\u001b[1;32m      4\u001b[0m \u001b[0;31m# irrigation_data.plot(grid=True, title=\"Temperature-SoilHUM-AirHUM\").set_ylabel(\"Temperature(Celcius) -- SoilHUM(%) -- AirHUM(%)\")\u001b[0m\u001b[0;34m\u001b[0m\u001b[0;34m\u001b[0m\u001b[0;34m\u001b[0m\u001b[0m\n",
      "\u001b[0;31mAttributeError\u001b[0m: 'RangeIndex' object has no attribute 'to_pydatetime'"
     ]
    }
   ],
   "source": [
    "plt.rcParams['figure.figsize'] = (24,6)   # Change the plot size\n",
    "# plt.plot(irrigation_data.index.to_pydatetime(), df.RandomValues)\n",
    "\n",
    "irrigation_data.plot(grid=True, title=\"Temperature-SoilHUM-AirHUM\").set_ylabel(\"Temperature(Celcius) -- SoilHUM(%) -- AirHUM(%)\")"
   ]
  },
  {
   "cell_type": "code",
   "execution_count": null,
   "metadata": {},
   "outputs": [],
   "source": []
  },
  {
   "cell_type": "code",
   "execution_count": null,
   "metadata": {},
   "outputs": [],
   "source": []
  },
  {
   "cell_type": "code",
   "execution_count": null,
   "metadata": {},
   "outputs": [],
   "source": []
  }
 ],
 "metadata": {
  "kernelspec": {
   "display_name": ".smart-irrigation-env",
   "language": "python",
   "name": ".smart-irrigation-env"
  },
  "language_info": {
   "codemirror_mode": {
    "name": "ipython",
    "version": 3
   },
   "file_extension": ".py",
   "mimetype": "text/x-python",
   "name": "python",
   "nbconvert_exporter": "python",
   "pygments_lexer": "ipython3",
   "version": "3.7.4"
  }
 },
 "nbformat": 4,
 "nbformat_minor": 2
}
