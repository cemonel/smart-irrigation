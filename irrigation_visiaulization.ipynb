{
 "cells": [
  {
   "cell_type": "markdown",
   "metadata": {},
   "source": [
    "# Visualizing Irrigation Data\n",
    "\n",
    "## Cem Onel"
   ]
  },
  {
   "cell_type": "markdown",
   "metadata": {},
   "source": [
    "### Libraries"
   ]
  },
  {
   "cell_type": "code",
   "execution_count": 30,
   "metadata": {
    "pycharm": {
     "is_executing": false
    }
   },
   "outputs": [],
   "source": [
    "import pandas\n",
    "import numpy\n",
    "import datetime\n",
    "import matplotlib.pyplot as plt\n",
    "from scipy.signal import argrelextrema\n",
    "from pandas.plotting import register_matplotlib_converters\n",
    "# %matplotlib qt\n",
    "\n",
    "from sklearn.naive_bayes import MultinomialNB\n",
    "from sklearn.neighbors import KNeighborsClassifier\n",
    "from sklearn.linear_model import LogisticRegression\n",
    "from sklearn.ensemble import GradientBoostingClassifier\n",
    "from sklearn.model_selection import train_test_split\n",
    "from sklearn.pipeline import Pipeline\n",
    "from sklearn.metrics import classification_report,confusion_matrix\n",
    "from sklearn.ensemble import VotingClassifier\n",
    "from sklearn.metrics import accuracy_score\n",
    "\n",
    "MIN_MOISTURE = 600"
   ]
  },
  {
   "cell_type": "markdown",
   "metadata": {},
   "source": []
  },
  {
   "cell_type": "markdown",
   "metadata": {},
   "source": [
    "## Data Preparation"
   ]
  },
  {
   "cell_type": "code",
   "execution_count": 53,
   "metadata": {
    "pycharm": {
     "is_executing": false
    }
   },
   "outputs": [
    {
     "data": {
      "text/html": [
       "<div>\n",
       "<style scoped>\n",
       "    .dataframe tbody tr th:only-of-type {\n",
       "        vertical-align: middle;\n",
       "    }\n",
       "\n",
       "    .dataframe tbody tr th {\n",
       "        vertical-align: top;\n",
       "    }\n",
       "\n",
       "    .dataframe thead th {\n",
       "        text-align: right;\n",
       "    }\n",
       "</style>\n",
       "<table border=\"1\" class=\"dataframe\">\n",
       "  <thead>\n",
       "    <tr style=\"text-align: right;\">\n",
       "      <th></th>\n",
       "      <th>soil_moisture</th>\n",
       "      <th>temperature</th>\n",
       "      <th>air_humidity</th>\n",
       "    </tr>\n",
       "    <tr>\n",
       "      <th>time</th>\n",
       "      <th></th>\n",
       "      <th></th>\n",
       "      <th></th>\n",
       "    </tr>\n",
       "  </thead>\n",
       "  <tbody>\n",
       "    <tr>\n",
       "      <th>2020-04-10 14:17:04</th>\n",
       "      <td>36.036036</td>\n",
       "      <td>25.1</td>\n",
       "      <td>57.0</td>\n",
       "    </tr>\n",
       "    <tr>\n",
       "      <th>2020-04-10 14:31:04</th>\n",
       "      <td>18.018018</td>\n",
       "      <td>24.2</td>\n",
       "      <td>62.0</td>\n",
       "    </tr>\n",
       "    <tr>\n",
       "      <th>2020-04-10 14:45:09</th>\n",
       "      <td>14.414414</td>\n",
       "      <td>24.1</td>\n",
       "      <td>64.0</td>\n",
       "    </tr>\n",
       "    <tr>\n",
       "      <th>2020-04-10 14:59:14</th>\n",
       "      <td>14.414414</td>\n",
       "      <td>24.0</td>\n",
       "      <td>65.0</td>\n",
       "    </tr>\n",
       "    <tr>\n",
       "      <th>2020-04-10 15:13:23</th>\n",
       "      <td>13.513514</td>\n",
       "      <td>24.1</td>\n",
       "      <td>67.0</td>\n",
       "    </tr>\n",
       "    <tr>\n",
       "      <th>...</th>\n",
       "      <td>...</td>\n",
       "      <td>...</td>\n",
       "      <td>...</td>\n",
       "    </tr>\n",
       "    <tr>\n",
       "      <th>2020-04-12 15:25:39</th>\n",
       "      <td>72.072072</td>\n",
       "      <td>24.3</td>\n",
       "      <td>88.0</td>\n",
       "    </tr>\n",
       "    <tr>\n",
       "      <th>2020-04-12 15:39:45</th>\n",
       "      <td>66.666667</td>\n",
       "      <td>24.3</td>\n",
       "      <td>89.0</td>\n",
       "    </tr>\n",
       "    <tr>\n",
       "      <th>2020-04-12 15:53:49</th>\n",
       "      <td>67.567568</td>\n",
       "      <td>24.3</td>\n",
       "      <td>93.0</td>\n",
       "    </tr>\n",
       "    <tr>\n",
       "      <th>2020-04-12 16:07:55</th>\n",
       "      <td>71.171171</td>\n",
       "      <td>24.4</td>\n",
       "      <td>94.0</td>\n",
       "    </tr>\n",
       "    <tr>\n",
       "      <th>2020-04-12 16:22:01</th>\n",
       "      <td>66.666667</td>\n",
       "      <td>24.4</td>\n",
       "      <td>86.0</td>\n",
       "    </tr>\n",
       "  </tbody>\n",
       "</table>\n",
       "<p>210 rows × 3 columns</p>\n",
       "</div>"
      ],
      "text/plain": [
       "                     soil_moisture  temperature  air_humidity\n",
       "time                                                         \n",
       "2020-04-10 14:17:04      36.036036         25.1          57.0\n",
       "2020-04-10 14:31:04      18.018018         24.2          62.0\n",
       "2020-04-10 14:45:09      14.414414         24.1          64.0\n",
       "2020-04-10 14:59:14      14.414414         24.0          65.0\n",
       "2020-04-10 15:13:23      13.513514         24.1          67.0\n",
       "...                            ...          ...           ...\n",
       "2020-04-12 15:25:39      72.072072         24.3          88.0\n",
       "2020-04-12 15:39:45      66.666667         24.3          89.0\n",
       "2020-04-12 15:53:49      67.567568         24.3          93.0\n",
       "2020-04-12 16:07:55      71.171171         24.4          94.0\n",
       "2020-04-12 16:22:01      66.666667         24.4          86.0\n",
       "\n",
       "[210 rows x 3 columns]"
      ]
     },
     "execution_count": 53,
     "metadata": {},
     "output_type": "execute_result"
    }
   ],
   "source": [
    "## Retrieve Data from Csv File\n",
    "# irrigation_data = pandas.read_csv('low_sample_data/1.csv',sep='\\t', encoding=\"ISO-8859-1\")\n",
    "irrigation_data = pandas.read_csv('low_sample_data/6.csv',sep=',', encoding=\"ISO-8859-1\")\n",
    "\n",
    "irrigation_data.dropna(inplace=True)\n",
    "# Time Preparation\n",
    "irrigation_data['time'] = irrigation_data['time'].apply(lambda ts: ts)\n",
    "irrigation_data['time'] = irrigation_data['time'].apply(lambda ts: datetime.datetime.fromtimestamp(ts).strftime('%Y-%m-%d %H:%M:%S'))\n",
    "irrigation_data.set_index(irrigation_data['time'], inplace=True)\n",
    "\n",
    "del irrigation_data['time']\n",
    "\n",
    "# Soil-Mosutire Percantage Calculation\n",
    "max_soil_moisture = irrigation_data['soil_moisture'].max()\n",
    "irrigation_data['soil_moisture'] = irrigation_data['soil_moisture'].apply(lambda x: max_soil_moisture - x)\n",
    "max_soil_moisture = irrigation_data['soil_moisture'].max()\n",
    "min_soil_moisture = irrigation_data['soil_moisture'].min()\n",
    "\n",
    "irrigation_data['soil_moisture'] = irrigation_data['soil_moisture'].apply(lambda x: (x/max_soil_moisture)*100)\n",
    "\n",
    "irrigation_data"
   ]
  },
  {
   "cell_type": "markdown",
   "metadata": {},
   "source": [
    "## Visualize Data"
   ]
  },
  {
   "cell_type": "code",
   "execution_count": 54,
   "metadata": {
    "pycharm": {
     "is_executing": false
    },
    "scrolled": false
   },
   "outputs": [
    {
     "data": {
      "text/plain": [
       "Text(0, 0.5, 'Temperature(Celcius) -- SoilHUM(%) -- AirHUM(%)')"
      ]
     },
     "execution_count": 54,
     "metadata": {},
     "output_type": "execute_result"
    },
    {
     "data": {
      "image/png": "[encoded data removed]",
      "text/plain": [
       "<Figure size 1728x432 with 1 Axes>"
      ]
     },
     "metadata": {
      "needs_background": "light"
     },
     "output_type": "display_data"
    }
   ],
   "source": [
    "# register_matplotlib_converters()\n",
    "plt.rcParams['figure.figsize'] = (24,6)   # Change the plot size\n",
    "irrigation_data.plot(grid=True, title=\"Temperature-SoilHUM-AirHUM\", kind=\"line\").set_ylabel(\"Temperature(Celcius) -- SoilHUM(%) -- AirHUM(%)\")\n",
    "\n",
    "\n"
   ]
  },
  {
   "cell_type": "code",
   "execution_count": 55,
   "metadata": {
    "pycharm": {
     "is_executing": false
    }
   },
   "outputs": [
    {
     "data": {
      "image/png": "[encoded data removed]",
      "text/plain": [
       "<Figure size 1728x432 with 1 Axes>"
      ]
     },
     "metadata": {
      "needs_background": "light"
     },
     "output_type": "display_data"
    }
   ],
   "source": [
    "n=50 # number of points to be checked before and after \n",
    "# Find local peaks\n",
    "irrigation_data['min'] = irrigation_data.iloc[argrelextrema(irrigation_data.soil_moisture.values, numpy.less_equal, order=n)[0]]['soil_moisture']\n",
    "irrigation_data['max'] = irrigation_data.iloc[argrelextrema(irrigation_data.soil_moisture.values, numpy.greater_equal, order=n)[0]]['soil_moisture']\n",
    "\n",
    "# Plot results\n",
    "plt.scatter(irrigation_data.index, irrigation_data['min'], c='r')\n",
    "plt.scatter(irrigation_data.index, irrigation_data['max'], c='g')\n",
    "plt.plot(irrigation_data.index, irrigation_data['soil_moisture'])\n",
    "plt.show()\n"
   ]
  },
  {
   "cell_type": "code",
   "execution_count": null,
   "metadata": {},
   "outputs": [],
   "source": []
  },
  {
   "cell_type": "code",
   "execution_count": null,
   "metadata": {},
   "outputs": [],
   "source": []
  },
  {
   "cell_type": "code",
   "execution_count": 56,
   "metadata": {
    "pycharm": {
     "is_executing": false
    }
   },
   "outputs": [
    {
     "name": "stdout",
     "output_type": "stream",
     "text": [
      "Threshold Value: %15.68627450980392 -- 17.41176470588235\n",
      "Min Moisture:0 -- Max Moisture:111\n"
     ]
    }
   ],
   "source": [
    "threshold_value = irrigation_data.mean(axis = 0, skipna = True)[3]\n",
    "print(f\"Threshold Value: %{threshold_value} -- {max_soil_moisture*threshold_value/100}\")\n",
    "print(f\"Min Moisture:{min_soil_moisture} -- Max Moisture:{max_soil_moisture}\")\n",
    "\n"
   ]
  },
  {
   "cell_type": "code",
   "execution_count": 57,
   "metadata": {
    "pycharm": {
     "is_executing": false
    }
   },
   "outputs": [
    {
     "data": {
      "text/html": [
       "<div>\n",
       "<style scoped>\n",
       "    .dataframe tbody tr th:only-of-type {\n",
       "        vertical-align: middle;\n",
       "    }\n",
       "\n",
       "    .dataframe tbody tr th {\n",
       "        vertical-align: top;\n",
       "    }\n",
       "\n",
       "    .dataframe thead th {\n",
       "        text-align: right;\n",
       "    }\n",
       "</style>\n",
       "<table border=\"1\" class=\"dataframe\">\n",
       "  <thead>\n",
       "    <tr style=\"text-align: right;\">\n",
       "      <th></th>\n",
       "      <th>soil_moisture</th>\n",
       "      <th>temperature</th>\n",
       "      <th>air_humidity</th>\n",
       "      <th>boolean</th>\n",
       "    </tr>\n",
       "    <tr>\n",
       "      <th>time</th>\n",
       "      <th></th>\n",
       "      <th></th>\n",
       "      <th></th>\n",
       "      <th></th>\n",
       "    </tr>\n",
       "  </thead>\n",
       "  <tbody>\n",
       "    <tr>\n",
       "      <th>2020-04-10 14:17:04</th>\n",
       "      <td>36.036036</td>\n",
       "      <td>25.1</td>\n",
       "      <td>57.0</td>\n",
       "      <td>1.0</td>\n",
       "    </tr>\n",
       "    <tr>\n",
       "      <th>2020-04-10 14:31:04</th>\n",
       "      <td>18.018018</td>\n",
       "      <td>24.2</td>\n",
       "      <td>62.0</td>\n",
       "      <td>1.0</td>\n",
       "    </tr>\n",
       "    <tr>\n",
       "      <th>2020-04-10 14:45:09</th>\n",
       "      <td>14.414414</td>\n",
       "      <td>24.1</td>\n",
       "      <td>64.0</td>\n",
       "      <td>1.0</td>\n",
       "    </tr>\n",
       "    <tr>\n",
       "      <th>2020-04-10 14:59:14</th>\n",
       "      <td>14.414414</td>\n",
       "      <td>24.0</td>\n",
       "      <td>65.0</td>\n",
       "      <td>1.0</td>\n",
       "    </tr>\n",
       "    <tr>\n",
       "      <th>2020-04-10 15:13:23</th>\n",
       "      <td>13.513514</td>\n",
       "      <td>24.1</td>\n",
       "      <td>67.0</td>\n",
       "      <td>1.0</td>\n",
       "    </tr>\n",
       "    <tr>\n",
       "      <th>...</th>\n",
       "      <td>...</td>\n",
       "      <td>...</td>\n",
       "      <td>...</td>\n",
       "      <td>...</td>\n",
       "    </tr>\n",
       "    <tr>\n",
       "      <th>2020-04-12 15:25:39</th>\n",
       "      <td>72.072072</td>\n",
       "      <td>24.3</td>\n",
       "      <td>88.0</td>\n",
       "      <td>1.0</td>\n",
       "    </tr>\n",
       "    <tr>\n",
       "      <th>2020-04-12 15:39:45</th>\n",
       "      <td>66.666667</td>\n",
       "      <td>24.3</td>\n",
       "      <td>89.0</td>\n",
       "      <td>1.0</td>\n",
       "    </tr>\n",
       "    <tr>\n",
       "      <th>2020-04-12 15:53:49</th>\n",
       "      <td>67.567568</td>\n",
       "      <td>24.3</td>\n",
       "      <td>93.0</td>\n",
       "      <td>1.0</td>\n",
       "    </tr>\n",
       "    <tr>\n",
       "      <th>2020-04-12 16:07:55</th>\n",
       "      <td>71.171171</td>\n",
       "      <td>24.4</td>\n",
       "      <td>94.0</td>\n",
       "      <td>1.0</td>\n",
       "    </tr>\n",
       "    <tr>\n",
       "      <th>2020-04-12 16:22:01</th>\n",
       "      <td>66.666667</td>\n",
       "      <td>24.4</td>\n",
       "      <td>86.0</td>\n",
       "      <td>1.0</td>\n",
       "    </tr>\n",
       "  </tbody>\n",
       "</table>\n",
       "<p>210 rows × 4 columns</p>\n",
       "</div>"
      ],
      "text/plain": [
       "                     soil_moisture  temperature  air_humidity  boolean\n",
       "time                                                                  \n",
       "2020-04-10 14:17:04      36.036036         25.1          57.0      1.0\n",
       "2020-04-10 14:31:04      18.018018         24.2          62.0      1.0\n",
       "2020-04-10 14:45:09      14.414414         24.1          64.0      1.0\n",
       "2020-04-10 14:59:14      14.414414         24.0          65.0      1.0\n",
       "2020-04-10 15:13:23      13.513514         24.1          67.0      1.0\n",
       "...                            ...          ...           ...      ...\n",
       "2020-04-12 15:25:39      72.072072         24.3          88.0      1.0\n",
       "2020-04-12 15:39:45      66.666667         24.3          89.0      1.0\n",
       "2020-04-12 15:53:49      67.567568         24.3          93.0      1.0\n",
       "2020-04-12 16:07:55      71.171171         24.4          94.0      1.0\n",
       "2020-04-12 16:22:01      66.666667         24.4          86.0      1.0\n",
       "\n",
       "[210 rows x 4 columns]"
      ]
     },
     "execution_count": 57,
     "metadata": {},
     "output_type": "execute_result"
    }
   ],
   "source": [
    "\n",
    "irrigation_data[\"boolean\"] = irrigation_data[\"min\"]\n",
    "irrigation_data[\"boolean\"].fillna(0)\n",
    "irrigation_data.loc[irrigation_data[\"boolean\"] != 0, \"boolean\",] = 1\n",
    "irrigation_data.drop(columns=['min', 'max'], inplace=True)\n",
    "irrigation_data"
   ]
  },
  {
   "cell_type": "code",
   "execution_count": 58,
   "metadata": {
    "pycharm": {
     "is_executing": false
    }
   },
   "outputs": [
    {
     "data": {
      "text/html": [
       "<div>\n",
       "<style scoped>\n",
       "    .dataframe tbody tr th:only-of-type {\n",
       "        vertical-align: middle;\n",
       "    }\n",
       "\n",
       "    .dataframe tbody tr th {\n",
       "        vertical-align: top;\n",
       "    }\n",
       "\n",
       "    .dataframe thead th {\n",
       "        text-align: right;\n",
       "    }\n",
       "</style>\n",
       "<table border=\"1\" class=\"dataframe\">\n",
       "  <thead>\n",
       "    <tr style=\"text-align: right;\">\n",
       "      <th></th>\n",
       "      <th>soil_moisture</th>\n",
       "      <th>temperature</th>\n",
       "      <th>air_humidity</th>\n",
       "      <th>boolean</th>\n",
       "    </tr>\n",
       "  </thead>\n",
       "  <tbody>\n",
       "    <tr>\n",
       "      <th>count</th>\n",
       "      <td>210.000000</td>\n",
       "      <td>210.000000</td>\n",
       "      <td>210.000000</td>\n",
       "      <td>210.000000</td>\n",
       "    </tr>\n",
       "    <tr>\n",
       "      <th>mean</th>\n",
       "      <td>40.866581</td>\n",
       "      <td>24.095238</td>\n",
       "      <td>85.833333</td>\n",
       "      <td>0.938095</td>\n",
       "    </tr>\n",
       "    <tr>\n",
       "      <th>std</th>\n",
       "      <td>33.791613</td>\n",
       "      <td>0.264442</td>\n",
       "      <td>8.916724</td>\n",
       "      <td>0.241558</td>\n",
       "    </tr>\n",
       "    <tr>\n",
       "      <th>min</th>\n",
       "      <td>0.000000</td>\n",
       "      <td>23.500000</td>\n",
       "      <td>47.000000</td>\n",
       "      <td>0.000000</td>\n",
       "    </tr>\n",
       "    <tr>\n",
       "      <th>25%</th>\n",
       "      <td>3.828829</td>\n",
       "      <td>23.900000</td>\n",
       "      <td>82.000000</td>\n",
       "      <td>1.000000</td>\n",
       "    </tr>\n",
       "    <tr>\n",
       "      <th>50%</th>\n",
       "      <td>67.567568</td>\n",
       "      <td>24.200000</td>\n",
       "      <td>86.000000</td>\n",
       "      <td>1.000000</td>\n",
       "    </tr>\n",
       "    <tr>\n",
       "      <th>75%</th>\n",
       "      <td>71.171171</td>\n",
       "      <td>24.300000</td>\n",
       "      <td>95.000000</td>\n",
       "      <td>1.000000</td>\n",
       "    </tr>\n",
       "    <tr>\n",
       "      <th>max</th>\n",
       "      <td>100.000000</td>\n",
       "      <td>25.100000</td>\n",
       "      <td>95.000000</td>\n",
       "      <td>1.000000</td>\n",
       "    </tr>\n",
       "  </tbody>\n",
       "</table>\n",
       "</div>"
      ],
      "text/plain": [
       "       soil_moisture  temperature  air_humidity     boolean\n",
       "count     210.000000   210.000000    210.000000  210.000000\n",
       "mean       40.866581    24.095238     85.833333    0.938095\n",
       "std        33.791613     0.264442      8.916724    0.241558\n",
       "min         0.000000    23.500000     47.000000    0.000000\n",
       "25%         3.828829    23.900000     82.000000    1.000000\n",
       "50%        67.567568    24.200000     86.000000    1.000000\n",
       "75%        71.171171    24.300000     95.000000    1.000000\n",
       "max       100.000000    25.100000     95.000000    1.000000"
      ]
     },
     "execution_count": 58,
     "metadata": {},
     "output_type": "execute_result"
    }
   ],
   "source": [
    "irrigation_data.dropna(inplace=True)\n",
    "irrigation_data.groupby('boolean').describe()\n",
    "irrigation_data.describe()"
   ]
  },
  {
   "cell_type": "code",
   "execution_count": 59,
   "metadata": {
    "pycharm": {
     "is_executing": false
    }
   },
   "outputs": [
    {
     "data": {
      "text/html": [
       "<div>\n",
       "<style scoped>\n",
       "    .dataframe tbody tr th:only-of-type {\n",
       "        vertical-align: middle;\n",
       "    }\n",
       "\n",
       "    .dataframe tbody tr th {\n",
       "        vertical-align: top;\n",
       "    }\n",
       "\n",
       "    .dataframe thead th {\n",
       "        text-align: right;\n",
       "    }\n",
       "</style>\n",
       "<table border=\"1\" class=\"dataframe\">\n",
       "  <thead>\n",
       "    <tr style=\"text-align: right;\">\n",
       "      <th></th>\n",
       "      <th>soil_moisture</th>\n",
       "      <th>temperature</th>\n",
       "      <th>air_humidity</th>\n",
       "      <th>boolean</th>\n",
       "    </tr>\n",
       "    <tr>\n",
       "      <th>time</th>\n",
       "      <th></th>\n",
       "      <th></th>\n",
       "      <th></th>\n",
       "      <th></th>\n",
       "    </tr>\n",
       "  </thead>\n",
       "  <tbody>\n",
       "    <tr>\n",
       "      <th>2020-04-11 14:55:09</th>\n",
       "      <td>88.288288</td>\n",
       "      <td>24.2</td>\n",
       "      <td>72.0</td>\n",
       "      <td>1.0</td>\n",
       "    </tr>\n",
       "    <tr>\n",
       "      <th>2020-04-11 23:16:58</th>\n",
       "      <td>75.675676</td>\n",
       "      <td>24.3</td>\n",
       "      <td>95.0</td>\n",
       "      <td>1.0</td>\n",
       "    </tr>\n",
       "    <tr>\n",
       "      <th>2020-04-11 23:44:58</th>\n",
       "      <td>71.171171</td>\n",
       "      <td>24.3</td>\n",
       "      <td>95.0</td>\n",
       "      <td>1.0</td>\n",
       "    </tr>\n",
       "    <tr>\n",
       "      <th>2020-04-10 23:10:32</th>\n",
       "      <td>1.801802</td>\n",
       "      <td>24.3</td>\n",
       "      <td>87.0</td>\n",
       "      <td>1.0</td>\n",
       "    </tr>\n",
       "    <tr>\n",
       "      <th>2020-04-10 20:18:23</th>\n",
       "      <td>10.810811</td>\n",
       "      <td>24.2</td>\n",
       "      <td>91.0</td>\n",
       "      <td>1.0</td>\n",
       "    </tr>\n",
       "    <tr>\n",
       "      <th>2020-04-11 20:41:33</th>\n",
       "      <td>71.171171</td>\n",
       "      <td>24.4</td>\n",
       "      <td>95.0</td>\n",
       "      <td>1.0</td>\n",
       "    </tr>\n",
       "    <tr>\n",
       "      <th>2020-04-10 19:06:18</th>\n",
       "      <td>12.612613</td>\n",
       "      <td>24.2</td>\n",
       "      <td>88.0</td>\n",
       "      <td>1.0</td>\n",
       "    </tr>\n",
       "    <tr>\n",
       "      <th>2020-04-11 10:57:00</th>\n",
       "      <td>0.900901</td>\n",
       "      <td>23.5</td>\n",
       "      <td>78.0</td>\n",
       "      <td>1.0</td>\n",
       "    </tr>\n",
       "    <tr>\n",
       "      <th>2020-04-11 04:21:27</th>\n",
       "      <td>5.405405</td>\n",
       "      <td>23.8</td>\n",
       "      <td>81.0</td>\n",
       "      <td>1.0</td>\n",
       "    </tr>\n",
       "    <tr>\n",
       "      <th>2020-04-11 10:14:57</th>\n",
       "      <td>0.900901</td>\n",
       "      <td>23.7</td>\n",
       "      <td>84.0</td>\n",
       "      <td>1.0</td>\n",
       "    </tr>\n",
       "    <tr>\n",
       "      <th>2020-04-10 14:31:04</th>\n",
       "      <td>18.018018</td>\n",
       "      <td>24.2</td>\n",
       "      <td>62.0</td>\n",
       "      <td>1.0</td>\n",
       "    </tr>\n",
       "    <tr>\n",
       "      <th>2020-04-12 14:43:24</th>\n",
       "      <td>67.567568</td>\n",
       "      <td>24.3</td>\n",
       "      <td>84.0</td>\n",
       "      <td>1.0</td>\n",
       "    </tr>\n",
       "    <tr>\n",
       "      <th>2020-04-11 13:58:35</th>\n",
       "      <td>100.000000</td>\n",
       "      <td>24.2</td>\n",
       "      <td>67.0</td>\n",
       "      <td>1.0</td>\n",
       "    </tr>\n",
       "    <tr>\n",
       "      <th>2020-04-12 07:01:54</th>\n",
       "      <td>67.567568</td>\n",
       "      <td>23.8</td>\n",
       "      <td>95.0</td>\n",
       "      <td>1.0</td>\n",
       "    </tr>\n",
       "    <tr>\n",
       "      <th>2020-04-11 03:25:03</th>\n",
       "      <td>1.801802</td>\n",
       "      <td>23.9</td>\n",
       "      <td>82.0</td>\n",
       "      <td>1.0</td>\n",
       "    </tr>\n",
       "    <tr>\n",
       "      <th>2020-04-11 02:28:36</th>\n",
       "      <td>6.306306</td>\n",
       "      <td>24.0</td>\n",
       "      <td>87.0</td>\n",
       "      <td>1.0</td>\n",
       "    </tr>\n",
       "    <tr>\n",
       "      <th>2020-04-11 16:25:03</th>\n",
       "      <td>72.072072</td>\n",
       "      <td>24.3</td>\n",
       "      <td>84.0</td>\n",
       "      <td>1.0</td>\n",
       "    </tr>\n",
       "    <tr>\n",
       "      <th>2020-04-12 15:39:45</th>\n",
       "      <td>66.666667</td>\n",
       "      <td>24.3</td>\n",
       "      <td>89.0</td>\n",
       "      <td>1.0</td>\n",
       "    </tr>\n",
       "    <tr>\n",
       "      <th>2020-04-12 04:27:01</th>\n",
       "      <td>71.171171</td>\n",
       "      <td>24.0</td>\n",
       "      <td>95.0</td>\n",
       "      <td>1.0</td>\n",
       "    </tr>\n",
       "    <tr>\n",
       "      <th>2020-04-10 22:13:11</th>\n",
       "      <td>12.612613</td>\n",
       "      <td>24.2</td>\n",
       "      <td>86.0</td>\n",
       "      <td>1.0</td>\n",
       "    </tr>\n",
       "    <tr>\n",
       "      <th>2020-04-12 04:55:16</th>\n",
       "      <td>70.270270</td>\n",
       "      <td>24.0</td>\n",
       "      <td>95.0</td>\n",
       "      <td>1.0</td>\n",
       "    </tr>\n",
       "    <tr>\n",
       "      <th>2020-04-10 21:15:41</th>\n",
       "      <td>5.405405</td>\n",
       "      <td>24.2</td>\n",
       "      <td>89.0</td>\n",
       "      <td>1.0</td>\n",
       "    </tr>\n",
       "    <tr>\n",
       "      <th>2020-04-10 15:41:39</th>\n",
       "      <td>17.117117</td>\n",
       "      <td>24.2</td>\n",
       "      <td>73.0</td>\n",
       "      <td>1.0</td>\n",
       "    </tr>\n",
       "    <tr>\n",
       "      <th>2020-04-11 04:49:46</th>\n",
       "      <td>0.900901</td>\n",
       "      <td>23.8</td>\n",
       "      <td>82.0</td>\n",
       "      <td>1.0</td>\n",
       "    </tr>\n",
       "    <tr>\n",
       "      <th>2020-04-11 05:32:46</th>\n",
       "      <td>0.900901</td>\n",
       "      <td>23.7</td>\n",
       "      <td>82.0</td>\n",
       "      <td>1.0</td>\n",
       "    </tr>\n",
       "    <tr>\n",
       "      <th>2020-04-12 13:47:49</th>\n",
       "      <td>73.873874</td>\n",
       "      <td>24.3</td>\n",
       "      <td>84.0</td>\n",
       "      <td>1.0</td>\n",
       "    </tr>\n",
       "    <tr>\n",
       "      <th>2020-04-11 05:18:37</th>\n",
       "      <td>5.405405</td>\n",
       "      <td>23.7</td>\n",
       "      <td>82.0</td>\n",
       "      <td>1.0</td>\n",
       "    </tr>\n",
       "    <tr>\n",
       "      <th>2020-04-11 08:21:36</th>\n",
       "      <td>0.000000</td>\n",
       "      <td>23.6</td>\n",
       "      <td>83.0</td>\n",
       "      <td>0.0</td>\n",
       "    </tr>\n",
       "    <tr>\n",
       "      <th>2020-04-10 17:21:49</th>\n",
       "      <td>14.414414</td>\n",
       "      <td>24.2</td>\n",
       "      <td>85.0</td>\n",
       "      <td>1.0</td>\n",
       "    </tr>\n",
       "    <tr>\n",
       "      <th>2020-04-10 23:24:48</th>\n",
       "      <td>1.801802</td>\n",
       "      <td>24.3</td>\n",
       "      <td>86.0</td>\n",
       "      <td>1.0</td>\n",
       "    </tr>\n",
       "    <tr>\n",
       "      <th>2020-04-12 02:19:40</th>\n",
       "      <td>69.369369</td>\n",
       "      <td>24.2</td>\n",
       "      <td>95.0</td>\n",
       "      <td>1.0</td>\n",
       "    </tr>\n",
       "    <tr>\n",
       "      <th>2020-04-11 17:08:17</th>\n",
       "      <td>72.072072</td>\n",
       "      <td>24.3</td>\n",
       "      <td>86.0</td>\n",
       "      <td>1.0</td>\n",
       "    </tr>\n",
       "    <tr>\n",
       "      <th>2020-04-10 21:01:21</th>\n",
       "      <td>5.405405</td>\n",
       "      <td>24.2</td>\n",
       "      <td>90.0</td>\n",
       "      <td>1.0</td>\n",
       "    </tr>\n",
       "    <tr>\n",
       "      <th>2020-04-11 06:14:55</th>\n",
       "      <td>0.000000</td>\n",
       "      <td>23.7</td>\n",
       "      <td>82.0</td>\n",
       "      <td>0.0</td>\n",
       "    </tr>\n",
       "    <tr>\n",
       "      <th>2020-04-11 21:38:00</th>\n",
       "      <td>71.171171</td>\n",
       "      <td>24.3</td>\n",
       "      <td>95.0</td>\n",
       "      <td>1.0</td>\n",
       "    </tr>\n",
       "    <tr>\n",
       "      <th>2020-04-12 10:04:34</th>\n",
       "      <td>72.072072</td>\n",
       "      <td>23.9</td>\n",
       "      <td>95.0</td>\n",
       "      <td>1.0</td>\n",
       "    </tr>\n",
       "    <tr>\n",
       "      <th>2020-04-12 05:09:22</th>\n",
       "      <td>70.270270</td>\n",
       "      <td>23.9</td>\n",
       "      <td>95.0</td>\n",
       "      <td>1.0</td>\n",
       "    </tr>\n",
       "    <tr>\n",
       "      <th>2020-04-10 16:39:11</th>\n",
       "      <td>16.216216</td>\n",
       "      <td>24.2</td>\n",
       "      <td>81.0</td>\n",
       "      <td>1.0</td>\n",
       "    </tr>\n",
       "    <tr>\n",
       "      <th>2020-04-12 14:57:31</th>\n",
       "      <td>72.072072</td>\n",
       "      <td>24.3</td>\n",
       "      <td>86.0</td>\n",
       "      <td>1.0</td>\n",
       "    </tr>\n",
       "    <tr>\n",
       "      <th>2020-04-11 00:07:18</th>\n",
       "      <td>3.603604</td>\n",
       "      <td>24.3</td>\n",
       "      <td>86.0</td>\n",
       "      <td>1.0</td>\n",
       "    </tr>\n",
       "    <tr>\n",
       "      <th>2020-04-10 20:47:06</th>\n",
       "      <td>10.810811</td>\n",
       "      <td>24.2</td>\n",
       "      <td>91.0</td>\n",
       "      <td>1.0</td>\n",
       "    </tr>\n",
       "    <tr>\n",
       "      <th>2020-04-11 02:42:39</th>\n",
       "      <td>6.306306</td>\n",
       "      <td>24.0</td>\n",
       "      <td>87.0</td>\n",
       "      <td>1.0</td>\n",
       "    </tr>\n",
       "  </tbody>\n",
       "</table>\n",
       "</div>"
      ],
      "text/plain": [
       "                     soil_moisture  temperature  air_humidity  boolean\n",
       "time                                                                  \n",
       "2020-04-11 14:55:09      88.288288         24.2          72.0      1.0\n",
       "2020-04-11 23:16:58      75.675676         24.3          95.0      1.0\n",
       "2020-04-11 23:44:58      71.171171         24.3          95.0      1.0\n",
       "2020-04-10 23:10:32       1.801802         24.3          87.0      1.0\n",
       "2020-04-10 20:18:23      10.810811         24.2          91.0      1.0\n",
       "2020-04-11 20:41:33      71.171171         24.4          95.0      1.0\n",
       "2020-04-10 19:06:18      12.612613         24.2          88.0      1.0\n",
       "2020-04-11 10:57:00       0.900901         23.5          78.0      1.0\n",
       "2020-04-11 04:21:27       5.405405         23.8          81.0      1.0\n",
       "2020-04-11 10:14:57       0.900901         23.7          84.0      1.0\n",
       "2020-04-10 14:31:04      18.018018         24.2          62.0      1.0\n",
       "2020-04-12 14:43:24      67.567568         24.3          84.0      1.0\n",
       "2020-04-11 13:58:35     100.000000         24.2          67.0      1.0\n",
       "2020-04-12 07:01:54      67.567568         23.8          95.0      1.0\n",
       "2020-04-11 03:25:03       1.801802         23.9          82.0      1.0\n",
       "2020-04-11 02:28:36       6.306306         24.0          87.0      1.0\n",
       "2020-04-11 16:25:03      72.072072         24.3          84.0      1.0\n",
       "2020-04-12 15:39:45      66.666667         24.3          89.0      1.0\n",
       "2020-04-12 04:27:01      71.171171         24.0          95.0      1.0\n",
       "2020-04-10 22:13:11      12.612613         24.2          86.0      1.0\n",
       "2020-04-12 04:55:16      70.270270         24.0          95.0      1.0\n",
       "2020-04-10 21:15:41       5.405405         24.2          89.0      1.0\n",
       "2020-04-10 15:41:39      17.117117         24.2          73.0      1.0\n",
       "2020-04-11 04:49:46       0.900901         23.8          82.0      1.0\n",
       "2020-04-11 05:32:46       0.900901         23.7          82.0      1.0\n",
       "2020-04-12 13:47:49      73.873874         24.3          84.0      1.0\n",
       "2020-04-11 05:18:37       5.405405         23.7          82.0      1.0\n",
       "2020-04-11 08:21:36       0.000000         23.6          83.0      0.0\n",
       "2020-04-10 17:21:49      14.414414         24.2          85.0      1.0\n",
       "2020-04-10 23:24:48       1.801802         24.3          86.0      1.0\n",
       "2020-04-12 02:19:40      69.369369         24.2          95.0      1.0\n",
       "2020-04-11 17:08:17      72.072072         24.3          86.0      1.0\n",
       "2020-04-10 21:01:21       5.405405         24.2          90.0      1.0\n",
       "2020-04-11 06:14:55       0.000000         23.7          82.0      0.0\n",
       "2020-04-11 21:38:00      71.171171         24.3          95.0      1.0\n",
       "2020-04-12 10:04:34      72.072072         23.9          95.0      1.0\n",
       "2020-04-12 05:09:22      70.270270         23.9          95.0      1.0\n",
       "2020-04-10 16:39:11      16.216216         24.2          81.0      1.0\n",
       "2020-04-12 14:57:31      72.072072         24.3          86.0      1.0\n",
       "2020-04-11 00:07:18       3.603604         24.3          86.0      1.0\n",
       "2020-04-10 20:47:06      10.810811         24.2          91.0      1.0\n",
       "2020-04-11 02:42:39       6.306306         24.0          87.0      1.0"
      ]
     },
     "execution_count": 59,
     "metadata": {},
     "output_type": "execute_result"
    }
   ],
   "source": [
    "irrigation_data_without_boolean = irrigation_data\n",
    "irr_train, irr_test, label_train, label_test = train_test_split(irrigation_data,irrigation_data['boolean'],test_size=0.2)\n",
    "\n",
    "irr_test\n",
    "\n"
   ]
  },
  {
   "cell_type": "markdown",
   "metadata": {},
   "source": [
    "# MultinominalNB"
   ]
  },
  {
   "cell_type": "code",
   "execution_count": 60,
   "metadata": {
    "pycharm": {
     "is_executing": false
    }
   },
   "outputs": [
    {
     "name": "stdout",
     "output_type": "stream",
     "text": [
      "time\n",
      "2020-04-12 16:22:01    1.0\n",
      "2020-04-12 13:06:05    1.0\n",
      "2020-04-11 21:52:05    1.0\n",
      "2020-04-11 15:14:50    1.0\n",
      "2020-04-11 23:02:49    1.0\n",
      "                      ... \n",
      "2020-04-11 21:23:54    1.0\n",
      "2020-04-11 04:07:23    1.0\n",
      "2020-04-12 03:02:11    1.0\n",
      "2020-04-11 13:06:47    1.0\n",
      "2020-04-12 12:38:20    1.0\n",
      "Name: boolean, Length: 168, dtype: float64\n",
      "                     soil_moisture  temperature  air_humidity  boolean\n",
      "time                                                                  \n",
      "2020-04-12 16:22:01      66.666667         24.4          86.0      1.0\n",
      "2020-04-12 13:06:05      72.972973         24.3          76.0      1.0\n",
      "2020-04-11 21:52:05      71.171171         24.4          95.0      1.0\n",
      "2020-04-11 15:14:50      82.882883         24.3          75.0      1.0\n",
      "2020-04-11 23:02:49      70.270270         24.4          95.0      1.0\n",
      "...                            ...          ...           ...      ...\n",
      "2020-04-11 21:23:54      76.576577         24.4          95.0      1.0\n",
      "2020-04-11 04:07:23       0.900901         23.8          81.0      1.0\n",
      "2020-04-12 03:02:11      69.369369         24.1          95.0      1.0\n",
      "2020-04-11 13:06:47       0.900901         24.2          65.0      1.0\n",
      "2020-04-12 12:38:20      69.369369         24.3          75.0      1.0\n",
      "\n",
      "[168 rows x 4 columns]\n"
     ]
    }
   ],
   "source": [
    "pipeline = Pipeline([\n",
    "    ('classifier',MultinomialNB()),\n",
    "])\n",
    "\n",
    "print(label_train)\n",
    "print(irr_train)\n",
    "pipeline.fit(irr_train,label_train)\n",
    "predictions = pipeline.predict(irr_test)\n",
    "# print(classification_report(predictions,label_test))\n",
    "# predictions"
   ]
  },
  {
   "cell_type": "markdown",
   "metadata": {},
   "source": [
    "# KNN"
   ]
  },
  {
   "cell_type": "code",
   "execution_count": 61,
   "metadata": {
    "pycharm": {
     "is_executing": false
    }
   },
   "outputs": [
    {
     "name": "stdout",
     "output_type": "stream",
     "text": [
      "              precision    recall  f1-score   support\n",
      "\n",
      "         0.0       1.00      1.00      1.00         2\n",
      "         1.0       1.00      1.00      1.00        40\n",
      "\n",
      "    accuracy                           1.00        42\n",
      "   macro avg       1.00      1.00      1.00        42\n",
      "weighted avg       1.00      1.00      1.00        42\n",
      "\n"
     ]
    }
   ],
   "source": [
    "pipeline2 = Pipeline([\n",
    "    ('classifier',KNeighborsClassifier(n_neighbors=3)),\n",
    "])\n",
    "\n",
    "pipeline2.fit(irr_train,label_train)\n",
    "predictions = pipeline2.predict(irr_test)\n",
    "print(classification_report(predictions,label_test))"
   ]
  },
  {
   "cell_type": "markdown",
   "metadata": {
    "pycharm": {
     "is_executing": false
    }
   },
   "source": [
    "# Logistic Regression"
   ]
  },
  {
   "cell_type": "code",
   "execution_count": 62,
   "metadata": {
    "pycharm": {
     "is_executing": false
    }
   },
   "outputs": [
    {
     "name": "stdout",
     "output_type": "stream",
     "text": [
      "              precision    recall  f1-score   support\n",
      "\n",
      "         0.0       1.00      1.00      1.00         2\n",
      "         1.0       1.00      1.00      1.00        40\n",
      "\n",
      "    accuracy                           1.00        42\n",
      "   macro avg       1.00      1.00      1.00        42\n",
      "weighted avg       1.00      1.00      1.00        42\n",
      "\n"
     ]
    }
   ],
   "source": [
    "pipeline3 = Pipeline([\n",
    "    ('classifier',LogisticRegression(random_state=0, solver='lbfgs', multi_class='multinomial')),\n",
    "])\n",
    "\n",
    "pipeline3.fit(irr_train,label_train)\n",
    "predictions = pipeline3.predict(irr_test)\n",
    "print(classification_report(predictions,label_test))"
   ]
  },
  {
   "cell_type": "code",
   "execution_count": 63,
   "metadata": {},
   "outputs": [
    {
     "name": "stdout",
     "output_type": "stream",
     "text": [
      "              precision    recall  f1-score   support\n",
      "\n",
      "         0.0       1.00      1.00      1.00         2\n",
      "         1.0       1.00      1.00      1.00        40\n",
      "\n",
      "    accuracy                           1.00        42\n",
      "   macro avg       1.00      1.00      1.00        42\n",
      "weighted avg       1.00      1.00      1.00        42\n",
      "\n"
     ]
    }
   ],
   "source": [
    "pipeline4 = Pipeline([\n",
    "    ('classifier',GradientBoostingClassifier()),\n",
    "])\n",
    "\n",
    "pipeline4.fit(irr_train,label_train)\n",
    "predictions = pipeline4.predict(irr_test)\n",
    "print(classification_report(predictions,label_test))"
   ]
  },
  {
   "cell_type": "code",
   "execution_count": null,
   "metadata": {},
   "outputs": [],
   "source": []
  },
  {
   "cell_type": "code",
   "execution_count": null,
   "metadata": {},
   "outputs": [],
   "source": []
  },
  {
   "cell_type": "code",
   "execution_count": null,
   "metadata": {},
   "outputs": [],
   "source": []
  }
 ],
 "metadata": {
  "kernelspec": {
   "display_name": "Python 3.8.1 64-bit ('smart-irrigation-env': venv)",
   "language": "python",
   "name": "python38164bitsmartirrigationenvvenvfd127ed9fe7a482d8e37816ca5708503"
  },
  "language_info": {
   "codemirror_mode": {
    "name": "ipython",
    "version": 3
   },
   "file_extension": ".py",
   "mimetype": "text/x-python",
   "name": "python",
   "nbconvert_exporter": "python",
   "pygments_lexer": "ipython3",
   "version": "3.8.1"
  },
  "pycharm": {
   "stem_cell": {
    "cell_type": "raw",
    "metadata": {
     "collapsed": false
    },
    "source": []
   }
  }
 },
 "nbformat": 4,
 "nbformat_minor": 2
}
