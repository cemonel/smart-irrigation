import pandas
irrigation_data = pandas.read_csv('data/1.csv',sep=' ', encoding="ISO-8859-1")
print(irrigation_data)